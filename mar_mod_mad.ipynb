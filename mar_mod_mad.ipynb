{
  "cells": [
    {
      "cell_type": "markdown",
      "metadata": {
        "colab_type": "text",
        "id": "view-in-github"
      },
      "source": [
        "<a href=\"https://colab.research.google.com/github/LiChaidoescode/March-Model-Madness/blob/main/NSDC_March_Madness_Classification_Outline.ipynb\" target=\"_parent\"><img src=\"https://colab.research.google.com/assets/colab-badge.svg\" alt=\"Open In Colab\"/></a>"
      ]
    },
    {
      "attachments": {},
      "cell_type": "markdown",
      "id": "28b9c81a",
      "metadata": {
        "id": "28b9c81a"
      },
      "source": [
        "# Inset cool name at the end "
      ]
    },
    {
      "cell_type": "code",
      "execution_count": 11,
      "id": "c33e8e44",
      "metadata": {
        "id": "c33e8e44"
      },
      "outputs": [],
      "source": [
        "import pandas as pd\n",
        "import math\n",
        "import sklearn \n",
        "import csv\n",
        "import random\n",
        "import numpy\n",
        "import seaborn as sb"
      ]
    },
    {
      "attachments": {},
      "cell_type": "markdown",
      "id": "409ef523",
      "metadata": {
        "id": "409ef523"
      },
      "source": [
        "The first thing was to import the most recent regular season team-level statistics along team-level box scores for many regular seasons of historical data, starting with the 2003 season (men). "
      ]
    },
    {
      "cell_type": "code",
      "execution_count": 12,
      "id": "f336b235",
      "metadata": {
        "id": "f336b235"
      },
      "outputs": [
        {
          "data": {
            "text/html": [
              "<div>\n",
              "<style scoped>\n",
              "    .dataframe tbody tr th:only-of-type {\n",
              "        vertical-align: middle;\n",
              "    }\n",
              "\n",
              "    .dataframe tbody tr th {\n",
              "        vertical-align: top;\n",
              "    }\n",
              "\n",
              "    .dataframe thead th {\n",
              "        text-align: right;\n",
              "    }\n",
              "</style>\n",
              "<table border=\"1\" class=\"dataframe\">\n",
              "  <thead>\n",
              "    <tr style=\"text-align: right;\">\n",
              "      <th></th>\n",
              "      <th>Season</th>\n",
              "      <th>DayNum</th>\n",
              "      <th>WTeamID</th>\n",
              "      <th>WScore</th>\n",
              "      <th>LTeamID</th>\n",
              "      <th>LScore</th>\n",
              "      <th>WLoc</th>\n",
              "      <th>NumOT</th>\n",
              "      <th>WFGM</th>\n",
              "      <th>WFGA</th>\n",
              "      <th>...</th>\n",
              "      <th>LFGA3</th>\n",
              "      <th>LFTM</th>\n",
              "      <th>LFTA</th>\n",
              "      <th>LOR</th>\n",
              "      <th>LDR</th>\n",
              "      <th>LAst</th>\n",
              "      <th>LTO</th>\n",
              "      <th>LStl</th>\n",
              "      <th>LBlk</th>\n",
              "      <th>LPF</th>\n",
              "    </tr>\n",
              "  </thead>\n",
              "  <tbody>\n",
              "    <tr>\n",
              "      <th>0</th>\n",
              "      <td>2003</td>\n",
              "      <td>134</td>\n",
              "      <td>1421</td>\n",
              "      <td>92</td>\n",
              "      <td>1411</td>\n",
              "      <td>84</td>\n",
              "      <td>N</td>\n",
              "      <td>1</td>\n",
              "      <td>32</td>\n",
              "      <td>69</td>\n",
              "      <td>...</td>\n",
              "      <td>31</td>\n",
              "      <td>14</td>\n",
              "      <td>31</td>\n",
              "      <td>17</td>\n",
              "      <td>28</td>\n",
              "      <td>16</td>\n",
              "      <td>15</td>\n",
              "      <td>5</td>\n",
              "      <td>0</td>\n",
              "      <td>22</td>\n",
              "    </tr>\n",
              "    <tr>\n",
              "      <th>1</th>\n",
              "      <td>2003</td>\n",
              "      <td>136</td>\n",
              "      <td>1112</td>\n",
              "      <td>80</td>\n",
              "      <td>1436</td>\n",
              "      <td>51</td>\n",
              "      <td>N</td>\n",
              "      <td>0</td>\n",
              "      <td>31</td>\n",
              "      <td>66</td>\n",
              "      <td>...</td>\n",
              "      <td>16</td>\n",
              "      <td>7</td>\n",
              "      <td>7</td>\n",
              "      <td>8</td>\n",
              "      <td>26</td>\n",
              "      <td>12</td>\n",
              "      <td>17</td>\n",
              "      <td>10</td>\n",
              "      <td>3</td>\n",
              "      <td>15</td>\n",
              "    </tr>\n",
              "    <tr>\n",
              "      <th>2</th>\n",
              "      <td>2003</td>\n",
              "      <td>136</td>\n",
              "      <td>1113</td>\n",
              "      <td>84</td>\n",
              "      <td>1272</td>\n",
              "      <td>71</td>\n",
              "      <td>N</td>\n",
              "      <td>0</td>\n",
              "      <td>31</td>\n",
              "      <td>59</td>\n",
              "      <td>...</td>\n",
              "      <td>28</td>\n",
              "      <td>14</td>\n",
              "      <td>21</td>\n",
              "      <td>20</td>\n",
              "      <td>22</td>\n",
              "      <td>11</td>\n",
              "      <td>12</td>\n",
              "      <td>2</td>\n",
              "      <td>5</td>\n",
              "      <td>18</td>\n",
              "    </tr>\n",
              "    <tr>\n",
              "      <th>3</th>\n",
              "      <td>2003</td>\n",
              "      <td>136</td>\n",
              "      <td>1141</td>\n",
              "      <td>79</td>\n",
              "      <td>1166</td>\n",
              "      <td>73</td>\n",
              "      <td>N</td>\n",
              "      <td>0</td>\n",
              "      <td>29</td>\n",
              "      <td>53</td>\n",
              "      <td>...</td>\n",
              "      <td>17</td>\n",
              "      <td>12</td>\n",
              "      <td>17</td>\n",
              "      <td>14</td>\n",
              "      <td>17</td>\n",
              "      <td>20</td>\n",
              "      <td>21</td>\n",
              "      <td>6</td>\n",
              "      <td>6</td>\n",
              "      <td>21</td>\n",
              "    </tr>\n",
              "    <tr>\n",
              "      <th>4</th>\n",
              "      <td>2003</td>\n",
              "      <td>136</td>\n",
              "      <td>1143</td>\n",
              "      <td>76</td>\n",
              "      <td>1301</td>\n",
              "      <td>74</td>\n",
              "      <td>N</td>\n",
              "      <td>1</td>\n",
              "      <td>27</td>\n",
              "      <td>64</td>\n",
              "      <td>...</td>\n",
              "      <td>21</td>\n",
              "      <td>15</td>\n",
              "      <td>20</td>\n",
              "      <td>10</td>\n",
              "      <td>26</td>\n",
              "      <td>16</td>\n",
              "      <td>14</td>\n",
              "      <td>5</td>\n",
              "      <td>8</td>\n",
              "      <td>19</td>\n",
              "    </tr>\n",
              "  </tbody>\n",
              "</table>\n",
              "<p>5 rows × 34 columns</p>\n",
              "</div>"
            ],
            "text/plain": [
              "   Season  DayNum  WTeamID  WScore  LTeamID  LScore WLoc  NumOT  WFGM  WFGA  \\\n",
              "0    2003     134     1421      92     1411      84    N      1    32    69   \n",
              "1    2003     136     1112      80     1436      51    N      0    31    66   \n",
              "2    2003     136     1113      84     1272      71    N      0    31    59   \n",
              "3    2003     136     1141      79     1166      73    N      0    29    53   \n",
              "4    2003     136     1143      76     1301      74    N      1    27    64   \n",
              "\n",
              "   ...  LFGA3  LFTM  LFTA  LOR  LDR  LAst  LTO  LStl  LBlk  LPF  \n",
              "0  ...     31    14    31   17   28    16   15     5     0   22  \n",
              "1  ...     16     7     7    8   26    12   17    10     3   15  \n",
              "2  ...     28    14    21   20   22    11   12     2     5   18  \n",
              "3  ...     17    12    17   14   17    20   21     6     6   21  \n",
              "4  ...     21    15    20   10   26    16   14     5     8   19  \n",
              "\n",
              "[5 rows x 34 columns]"
            ]
          },
          "execution_count": 12,
          "metadata": {},
          "output_type": "execute_result"
        }
      ],
      "source": [
        "mm_tourney = pd.read_csv(\"mmmData/MNCAATourneyDetailedResults.csv\")\n",
        "mm_tourney = mm_tourney.dropna(axis = 0)\n",
        "mm_tourney.head()"
      ]
    },
    {
      "cell_type": "code",
      "execution_count": 13,
      "id": "1176b460",
      "metadata": {},
      "outputs": [
        {
          "data": {
            "text/html": [
              "<div>\n",
              "<style scoped>\n",
              "    .dataframe tbody tr th:only-of-type {\n",
              "        vertical-align: middle;\n",
              "    }\n",
              "\n",
              "    .dataframe tbody tr th {\n",
              "        vertical-align: top;\n",
              "    }\n",
              "\n",
              "    .dataframe thead th {\n",
              "        text-align: right;\n",
              "    }\n",
              "</style>\n",
              "<table border=\"1\" class=\"dataframe\">\n",
              "  <thead>\n",
              "    <tr style=\"text-align: right;\">\n",
              "      <th></th>\n",
              "      <th>Season</th>\n",
              "      <th>DayNum</th>\n",
              "      <th>WTeamID</th>\n",
              "      <th>WScore</th>\n",
              "      <th>LTeamID</th>\n",
              "      <th>LScore</th>\n",
              "      <th>WLoc</th>\n",
              "      <th>NumOT</th>\n",
              "      <th>WFGM</th>\n",
              "      <th>WFGA</th>\n",
              "      <th>...</th>\n",
              "      <th>LFGA3</th>\n",
              "      <th>LFTM</th>\n",
              "      <th>LFTA</th>\n",
              "      <th>LOR</th>\n",
              "      <th>LDR</th>\n",
              "      <th>LAst</th>\n",
              "      <th>LTO</th>\n",
              "      <th>LStl</th>\n",
              "      <th>LBlk</th>\n",
              "      <th>LPF</th>\n",
              "    </tr>\n",
              "  </thead>\n",
              "  <tbody>\n",
              "    <tr>\n",
              "      <th>0</th>\n",
              "      <td>2003</td>\n",
              "      <td>10</td>\n",
              "      <td>1104</td>\n",
              "      <td>68</td>\n",
              "      <td>1328</td>\n",
              "      <td>62</td>\n",
              "      <td>N</td>\n",
              "      <td>0</td>\n",
              "      <td>27</td>\n",
              "      <td>58</td>\n",
              "      <td>...</td>\n",
              "      <td>10</td>\n",
              "      <td>16</td>\n",
              "      <td>22</td>\n",
              "      <td>10</td>\n",
              "      <td>22</td>\n",
              "      <td>8</td>\n",
              "      <td>18</td>\n",
              "      <td>9</td>\n",
              "      <td>2</td>\n",
              "      <td>20</td>\n",
              "    </tr>\n",
              "    <tr>\n",
              "      <th>1</th>\n",
              "      <td>2003</td>\n",
              "      <td>10</td>\n",
              "      <td>1272</td>\n",
              "      <td>70</td>\n",
              "      <td>1393</td>\n",
              "      <td>63</td>\n",
              "      <td>N</td>\n",
              "      <td>0</td>\n",
              "      <td>26</td>\n",
              "      <td>62</td>\n",
              "      <td>...</td>\n",
              "      <td>24</td>\n",
              "      <td>9</td>\n",
              "      <td>20</td>\n",
              "      <td>20</td>\n",
              "      <td>25</td>\n",
              "      <td>7</td>\n",
              "      <td>12</td>\n",
              "      <td>8</td>\n",
              "      <td>6</td>\n",
              "      <td>16</td>\n",
              "    </tr>\n",
              "    <tr>\n",
              "      <th>2</th>\n",
              "      <td>2003</td>\n",
              "      <td>11</td>\n",
              "      <td>1266</td>\n",
              "      <td>73</td>\n",
              "      <td>1437</td>\n",
              "      <td>61</td>\n",
              "      <td>N</td>\n",
              "      <td>0</td>\n",
              "      <td>24</td>\n",
              "      <td>58</td>\n",
              "      <td>...</td>\n",
              "      <td>26</td>\n",
              "      <td>14</td>\n",
              "      <td>23</td>\n",
              "      <td>31</td>\n",
              "      <td>22</td>\n",
              "      <td>9</td>\n",
              "      <td>12</td>\n",
              "      <td>2</td>\n",
              "      <td>5</td>\n",
              "      <td>23</td>\n",
              "    </tr>\n",
              "    <tr>\n",
              "      <th>3</th>\n",
              "      <td>2003</td>\n",
              "      <td>11</td>\n",
              "      <td>1296</td>\n",
              "      <td>56</td>\n",
              "      <td>1457</td>\n",
              "      <td>50</td>\n",
              "      <td>N</td>\n",
              "      <td>0</td>\n",
              "      <td>18</td>\n",
              "      <td>38</td>\n",
              "      <td>...</td>\n",
              "      <td>22</td>\n",
              "      <td>8</td>\n",
              "      <td>15</td>\n",
              "      <td>17</td>\n",
              "      <td>20</td>\n",
              "      <td>9</td>\n",
              "      <td>19</td>\n",
              "      <td>4</td>\n",
              "      <td>3</td>\n",
              "      <td>23</td>\n",
              "    </tr>\n",
              "    <tr>\n",
              "      <th>4</th>\n",
              "      <td>2003</td>\n",
              "      <td>11</td>\n",
              "      <td>1400</td>\n",
              "      <td>77</td>\n",
              "      <td>1208</td>\n",
              "      <td>71</td>\n",
              "      <td>N</td>\n",
              "      <td>0</td>\n",
              "      <td>30</td>\n",
              "      <td>61</td>\n",
              "      <td>...</td>\n",
              "      <td>16</td>\n",
              "      <td>17</td>\n",
              "      <td>27</td>\n",
              "      <td>21</td>\n",
              "      <td>15</td>\n",
              "      <td>12</td>\n",
              "      <td>10</td>\n",
              "      <td>7</td>\n",
              "      <td>1</td>\n",
              "      <td>14</td>\n",
              "    </tr>\n",
              "  </tbody>\n",
              "</table>\n",
              "<p>5 rows × 34 columns</p>\n",
              "</div>"
            ],
            "text/plain": [
              "   Season  DayNum  WTeamID  WScore  LTeamID  LScore WLoc  NumOT  WFGM  WFGA  \\\n",
              "0    2003      10     1104      68     1328      62    N      0    27    58   \n",
              "1    2003      10     1272      70     1393      63    N      0    26    62   \n",
              "2    2003      11     1266      73     1437      61    N      0    24    58   \n",
              "3    2003      11     1296      56     1457      50    N      0    18    38   \n",
              "4    2003      11     1400      77     1208      71    N      0    30    61   \n",
              "\n",
              "   ...  LFGA3  LFTM  LFTA  LOR  LDR  LAst  LTO  LStl  LBlk  LPF  \n",
              "0  ...     10    16    22   10   22     8   18     9     2   20  \n",
              "1  ...     24     9    20   20   25     7   12     8     6   16  \n",
              "2  ...     26    14    23   31   22     9   12     2     5   23  \n",
              "3  ...     22     8    15   17   20     9   19     4     3   23  \n",
              "4  ...     16    17    27   21   15    12   10     7     1   14  \n",
              "\n",
              "[5 rows x 34 columns]"
            ]
          },
          "execution_count": 13,
          "metadata": {},
          "output_type": "execute_result"
        }
      ],
      "source": [
        "mm_regseason = pd.read_csv(\"mmmData/MRegularSeasonDetailedResults.csv\")\n",
        "mm_regseason = mm_regseason.dropna(axis = 0)\n",
        "mm_regseason.head()"
      ]
    },
    {
      "cell_type": "code",
      "execution_count": 14,
      "id": "274a0824",
      "metadata": {
        "id": "274a0824"
      },
      "outputs": [],
      "source": [
        "corrM1 = mm_tourney.corr()\n",
        "corrM2 = mm_regseason.corr()"
      ]
    },
    {
      "cell_type": "code",
      "execution_count": 18,
      "id": "e2e668e7",
      "metadata": {
        "id": "e2e668e7",
        "outputId": "d92d928c-ef9d-49fc-f7af-9de4b41e774b"
      },
      "outputs": [
        {
          "data": {
            "text/plain": [
              "<AxesSubplot: >"
            ]
          },
          "execution_count": 18,
          "metadata": {},
          "output_type": "execute_result"
        },
        {
          "data": {
            "image/png": "[encoded data removed]",
            "text/plain": [
              "<Figure size 640x480 with 2 Axes>"
            ]
          },
          "metadata": {},
          "output_type": "display_data"
        }
      ],
      "source": [
        "sb.heatmap(corrM1, cmap = \"Blues\")"
      ]
    },
    {
      "cell_type": "code",
      "execution_count": 17,
      "id": "c685f4e9",
      "metadata": {},
      "outputs": [
        {
          "data": {
            "text/plain": [
              "<AxesSubplot: >"
            ]
          },
          "execution_count": 17,
          "metadata": {},
          "output_type": "execute_result"
        },
        {
          "data": {
            "image/png": "[encoded data removed]",
            "text/plain": [
              "<Figure size 640x480 with 2 Axes>"
            ]
          },
          "metadata": {},
          "output_type": "display_data"
        }
      ],
      "source": [
        "sb.heatmap(corrM2, cmap = \"crest\")"
      ]
    },
    {
      "attachments": {},
      "cell_type": "markdown",
      "id": "a5d5d792",
      "metadata": {
        "id": "a5d5d792"
      },
      "source": [
        "This correlation matrix only represents numerical values in the data, so things such as team names and rounds in the bracket are not displayed. I followed this step from the NSDC March Madness Classification outline. By inspection, most of the correlated box level scores are quite obvious. For example, field goals made by a losing team is pretty highly correlated with defensive rebounds made by the winning team. Originally, my hopes were to determine which statistics would be the most highly correlated to create a sleeker model. "
      ]
    },
    {
      "attachments": {},
      "cell_type": "markdown",
      "id": "2a9085fb",
      "metadata": {
        "id": "2a9085fb"
      },
      "source": [
        "After reviewing a number of old march madness projects I decided to take the path taken by Matt Harvey. He used recent team performance and ELO ratings to predict tournament performance. I've used his work as a starting point, updated the data used, and incorporated additional statistical learning models. According to my research, support vector machines are better for this type of highly variable data. "
      ]
    },
    {
      "cell_type": "code",
      "execution_count": 19,
      "id": "54c1e2ff",
      "metadata": {
        "id": "54c1e2ff",
        "outputId": "6c52c5c7-ba50-4eda-d2c8-280577a378d3"
      },
      "outputs": [],
      "source": [
        "base_elo = 1600\n",
        "team_elos = {}  # Reset each year.\n",
        "team_stats = {}\n",
        "X = []\n",
        "y = []\n",
        "submission_data = []\n",
        "folder = 'mmmData'\n",
        "prediction_year = 2023"
      ]
    },
    {
      "cell_type": "code",
      "execution_count": null,
      "id": "96cb14cf",
      "metadata": {},
      "outputs": [],
      "source": [
        "# The purpose of this function is to retrieve the ELO ranking of a specific team. \n",
        "# If an error occurs on the return, the function retrives the previous season's ending\n",
        "# value. If an error occurs there it assisngs a base elo ranking. \n",
        "def get_elo(season, team):\n",
        "    try:\n",
        "        return team_elos[season][team]\n",
        "    except:\n",
        "        try:\n",
        "            # Get the previous season's ending value.\n",
        "            team_elos[season][team] = team_elos[season-1][team]\n",
        "            return team_elos[season][team]\n",
        "        except:\n",
        "            # Get the starter elo.\n",
        "            team_elos[season][team] = base_elo\n",
        "            return team_elos[season][team]"
      ]
    },
    {
      "cell_type": "code",
      "execution_count": null,
      "id": "d717d42f",
      "metadata": {},
      "outputs": [],
      "source": [
        "def calc_elo(win_team, lose_team, season):\n",
        "    winner_rank = get_elo(season, win_team)\n",
        "    loser_rank = get_elo(season, lose_team)\n",
        "\n",
        "    \"\"\"\n",
        "    This is originally from from:\n",
        "    http://zurb.com/forrst/posts/An_Elo_Rating_function_in_Python_written_for_foo-hQl\n",
        "    \"\"\"\n",
        "    rank_diff = winner_rank - loser_rank\n",
        "    exp = (rank_diff * -1) / 400\n",
        "    odds = 1 / (1 + math.pow(10, exp))\n",
        "    if winner_rank < 2100:\n",
        "        k = 32\n",
        "    elif winner_rank >= 2100 and winner_rank < 2400:\n",
        "        k = 24\n",
        "    else:\n",
        "        k = 16\n",
        "    new_winner_rank = round(winner_rank + (k * (1 - odds)))\n",
        "    new_rank_diff = new_winner_rank - winner_rank\n",
        "    new_loser_rank = loser_rank - new_rank_diff\n",
        "\n",
        "    return new_winner_rank, new_loser_rank\n"
      ]
    },
    {
      "cell_type": "code",
      "execution_count": null,
      "id": "3b0e4688",
      "metadata": {},
      "outputs": [],
      "source": [
        "def get_stat(season, team, field):\n",
        "    try:\n",
        "        l = team_stats[season][team][field]\n",
        "        return sum(l) / float(len(l))\n",
        "    except:\n",
        "        return 0"
      ]
    },
    {
      "cell_type": "code",
      "execution_count": null,
      "id": "5135d5de",
      "metadata": {},
      "outputs": [],
      "source": [
        "def predict_winner(team_1, team_2, model, season, stat_fields):\n",
        "    features = []\n",
        "\n",
        "    # Team 1\n",
        "    features.append(get_elo(season, team_1))\n",
        "    for stat in stat_fields:\n",
        "        features.append(get_stat(season, team_1, stat))\n",
        "\n",
        "    # Team 2\n",
        "    features.append(get_elo(season, team_2))\n",
        "    for stat in stat_fields:\n",
        "        features.append(get_stat(season, team_2, stat))\n",
        "\n",
        "    return model.predict_proba([features])"
      ]
    },
    {
      "cell_type": "code",
      "execution_count": null,
      "id": "0176ab26",
      "metadata": {},
      "outputs": [],
      "source": [
        "def update_stats(season, team, fields):\n",
        "    \"\"\"\n",
        "    This accepts some stats for a team and udpates the averages.\n",
        "    First, we check if the team is in the dict yet. If it's not, we add it.\n",
        "    Then, we try to check if the key has more than 5 values in it.\n",
        "        If it does, we remove the first one\n",
        "        Either way, we append the new one.\n",
        "    If we can't check, then it doesn't exist, so we just add this.\n",
        "    Later, we'll get the average of these items.\n",
        "    \"\"\"\n",
        "    if team not in team_stats[season]:\n",
        "        team_stats[season][team] = {}\n",
        "\n",
        "    for key, value in fields.items():\n",
        "        # Make sure we have the field.\n",
        "        if key not in team_stats[season][team]:\n",
        "            team_stats[season][team][key] = []\n",
        "\n",
        "        if len(team_stats[season][team][key]) >= 9:\n",
        "            team_stats[season][team][key].pop()\n",
        "        team_stats[season][team][key].append(value)"
      ]
    },
    {
      "cell_type": "code",
      "execution_count": null,
      "id": "e21c4336",
      "metadata": {},
      "outputs": [],
      "source": [
        "def build_team_dict():\n",
        "    team_ids = pd.read_csv(folder + '/Teams.csv')\n",
        "    team_id_map = {}\n",
        "    for index, row in team_ids.iterrows():\n",
        "        team_id_map[row['Team_Id']] = row['Team_Name']\n",
        "    return team_id_map"
      ]
    },
    {
      "cell_type": "code",
      "execution_count": null,
      "id": "51afd958",
      "metadata": {},
      "outputs": [],
      "source": [
        "def build_season_data(all_data):\n",
        "    # Calculate the elo for every game for every team, each season.\n",
        "    # Store the elo per season so we can retrieve their end elo\n",
        "    # later in order to predict the tournaments without having to\n",
        "    # inject the prediction into this loop.\n",
        "    print(\"Building season data.\")\n",
        "    for index, row in all_data.iterrows():\n",
        "        # Used to skip matchups where we don't have usable stats yet.\n",
        "        skip = 0\n",
        "\n",
        "        # Get starter or previous elos.\n",
        "        team_1_elo = get_elo(row['Season'], row['Wteam'])\n",
        "        team_2_elo = get_elo(row['Season'], row['Lteam'])\n",
        "\n",
        "        # Add 100 to the home team (# taken from Nate Silver analysis.)\n",
        "        if row['Wloc'] == 'H':\n",
        "            team_1_elo += 100\n",
        "        elif row['Wloc'] == 'A':\n",
        "            team_2_elo += 100\n",
        "\n",
        "        # We'll create some arrays to use later.\n",
        "        team_1_features = [team_1_elo]\n",
        "        team_2_features = [team_2_elo]\n",
        "\n",
        "        # Build arrays out of the stats we're tracking..\n",
        "        for field in stat_fields:\n",
        "            team_1_stat = get_stat(row['Season'], row['Wteam'], field)\n",
        "            team_2_stat = get_stat(row['Season'], row['Lteam'], field)\n",
        "            if team_1_stat is not 0 and team_2_stat is not 0:\n",
        "                team_1_features.append(team_1_stat)\n",
        "                team_2_features.append(team_2_stat)\n",
        "            else:\n",
        "                skip = 1\n",
        "\n",
        "        if skip == 0:  # Make sure we have stats.\n",
        "            # Randomly select left and right and 0 or 1 so we can train\n",
        "            # for multiple classes.\n",
        "            if random.random() > 0.5:\n",
        "                X.append(team_1_features + team_2_features)\n",
        "                y.append(0)\n",
        "            else:\n",
        "                X.append(team_2_features + team_1_features)\n",
        "                y.append(1)\n",
        "\n",
        "        # AFTER we add the current stuff to the prediction, update for\n",
        "        # next time. Order here is key so we don't fit on data from the\n",
        "        # same game we're trying to predict.\n",
        "        if row['Wfta'] != 0 and row['Lfta'] != 0:\n",
        "            stat_1_fields = {\n",
        "                'score': row['Wscore'],\n",
        "                'fgp': row['Wfgm'] / row['Wfga'] * 100,\n",
        "                'fga': row['Wfga'],\n",
        "                'fga3': row['Wfga3'],\n",
        "                '3pp': row['Wfgm3'] / row['Wfga3'] * 100,\n",
        "                'ftp': row['Wftm'] / row['Wfta'] * 100,\n",
        "                'or': row['Wor'],\n",
        "                'dr': row['Wdr'],\n",
        "                'ast': row['Wast'],\n",
        "                'to': row['Wto'],\n",
        "                'stl': row['Wstl'],\n",
        "                'blk': row['Wblk'],\n",
        "                'pf': row['Wpf']\n",
        "            }\n",
        "            stat_2_fields = {\n",
        "                'score': row['Lscore'],\n",
        "                'fgp': row['Lfgm'] / row['Lfga'] * 100,\n",
        "                'fga': row['Lfga'],\n",
        "                'fga3': row['Lfga3'],\n",
        "                '3pp': row['Lfgm3'] / row['Lfga3'] * 100,\n",
        "                'ftp': row['Lftm'] / row['Lfta'] * 100,\n",
        "                'or': row['Lor'],\n",
        "                'dr': row['Ldr'],\n",
        "                'ast': row['Last'],\n",
        "                'to': row['Lto'],\n",
        "                'stl': row['Lstl'],\n",
        "                'blk': row['Lblk'],\n",
        "                'pf': row['Lpf']\n",
        "            }\n",
        "            update_stats(row['Season'], row['Wteam'], stat_1_fields)\n",
        "            update_stats(row['Season'], row['Lteam'], stat_2_fields)\n",
        "\n",
        "        # Now that we've added them, calc the new elo.\n",
        "        new_winner_rank, new_loser_rank = calc_elo(\n",
        "            row['Wteam'], row['Lteam'], row['Season'])\n",
        "        team_elos[row['Season']][row['Wteam']] = new_winner_rank\n",
        "        team_elos[row['Season']][row['Lteam']] = new_loser_rank\n",
        "\n",
        "    return X, y"
      ]
    },
    {
      "cell_type": "markdown",
      "id": "be126134",
      "metadata": {
        "id": "be126134"
      },
      "source": [
        "We can see from this that there are some teams that show up more frequently in the bracket than other teams. Depending on how you look at this, you may want to include the team name in your modeling, you may not. In this case, I chose to read this as some teams have more experience in the post-season that may benefit them, and I am including that in the machine learning aspect of this problem."
      ]
    },
    {
      "cell_type": "markdown",
      "id": "96e88244",
      "metadata": {
        "id": "96e88244"
      },
      "source": [
        "Next, we need to convert TEAM and CONF variables to integer values because most built-in classification methods cannot handle categorical/textual data. \n",
        "<br />\n",
        "<br />\n",
        "The best way to do this is to create dummy variables. Dummy variables basically are booleans that replace textual data. If you have a column called \"Letters\" and the values are [a,b,c], then get_dummies() changes that column into three columns where there is a 1 either in the a, b, or c column that represents the categorical value for that row."
      ]
    },
    {
      "cell_type": "code",
      "execution_count": null,
      "id": "d2ca675f",
      "metadata": {
        "id": "d2ca675f",
        "outputId": "44ffe8aa-d043-4c68-d094-f530a3e00e04"
      },
      "outputs": [
        {
          "data": {
            "text/html": [
              "<div>\n",
              "<style scoped>\n",
              "    .dataframe tbody tr th:only-of-type {\n",
              "        vertical-align: middle;\n",
              "    }\n",
              "\n",
              "    .dataframe tbody tr th {\n",
              "        vertical-align: top;\n",
              "    }\n",
              "\n",
              "    .dataframe thead th {\n",
              "        text-align: right;\n",
              "    }\n",
              "</style>\n",
              "<table border=\"1\" class=\"dataframe\">\n",
              "  <thead>\n",
              "    <tr style=\"text-align: right;\">\n",
              "      <th></th>\n",
              "      <th>G</th>\n",
              "      <th>W</th>\n",
              "      <th>ADJOE</th>\n",
              "      <th>ADJDE</th>\n",
              "      <th>BARTHAG</th>\n",
              "      <th>EFG_O</th>\n",
              "      <th>EFG_D</th>\n",
              "      <th>TOR</th>\n",
              "      <th>TORD</th>\n",
              "      <th>ORB</th>\n",
              "      <th>...</th>\n",
              "      <th>CONF_P12</th>\n",
              "      <th>CONF_Pat</th>\n",
              "      <th>CONF_SB</th>\n",
              "      <th>CONF_SC</th>\n",
              "      <th>CONF_SEC</th>\n",
              "      <th>CONF_SWAC</th>\n",
              "      <th>CONF_Slnd</th>\n",
              "      <th>CONF_Sum</th>\n",
              "      <th>CONF_WAC</th>\n",
              "      <th>CONF_WCC</th>\n",
              "    </tr>\n",
              "  </thead>\n",
              "  <tbody>\n",
              "    <tr>\n",
              "      <th>0</th>\n",
              "      <td>40</td>\n",
              "      <td>33</td>\n",
              "      <td>123.3</td>\n",
              "      <td>94.9</td>\n",
              "      <td>0.9531</td>\n",
              "      <td>52.6</td>\n",
              "      <td>48.1</td>\n",
              "      <td>15.4</td>\n",
              "      <td>18.2</td>\n",
              "      <td>40.7</td>\n",
              "      <td>...</td>\n",
              "      <td>0</td>\n",
              "      <td>0</td>\n",
              "      <td>0</td>\n",
              "      <td>0</td>\n",
              "      <td>0</td>\n",
              "      <td>0</td>\n",
              "      <td>0</td>\n",
              "      <td>0</td>\n",
              "      <td>0</td>\n",
              "      <td>0</td>\n",
              "    </tr>\n",
              "    <tr>\n",
              "      <th>1</th>\n",
              "      <td>40</td>\n",
              "      <td>36</td>\n",
              "      <td>129.1</td>\n",
              "      <td>93.6</td>\n",
              "      <td>0.9758</td>\n",
              "      <td>54.8</td>\n",
              "      <td>47.7</td>\n",
              "      <td>12.4</td>\n",
              "      <td>15.8</td>\n",
              "      <td>32.1</td>\n",
              "      <td>...</td>\n",
              "      <td>0</td>\n",
              "      <td>0</td>\n",
              "      <td>0</td>\n",
              "      <td>0</td>\n",
              "      <td>0</td>\n",
              "      <td>0</td>\n",
              "      <td>0</td>\n",
              "      <td>0</td>\n",
              "      <td>0</td>\n",
              "      <td>0</td>\n",
              "    </tr>\n",
              "    <tr>\n",
              "      <th>2</th>\n",
              "      <td>40</td>\n",
              "      <td>33</td>\n",
              "      <td>114.4</td>\n",
              "      <td>90.4</td>\n",
              "      <td>0.9375</td>\n",
              "      <td>53.9</td>\n",
              "      <td>47.7</td>\n",
              "      <td>14.0</td>\n",
              "      <td>19.5</td>\n",
              "      <td>25.5</td>\n",
              "      <td>...</td>\n",
              "      <td>0</td>\n",
              "      <td>0</td>\n",
              "      <td>0</td>\n",
              "      <td>0</td>\n",
              "      <td>0</td>\n",
              "      <td>0</td>\n",
              "      <td>0</td>\n",
              "      <td>0</td>\n",
              "      <td>0</td>\n",
              "      <td>0</td>\n",
              "    </tr>\n",
              "    <tr>\n",
              "      <th>3</th>\n",
              "      <td>38</td>\n",
              "      <td>31</td>\n",
              "      <td>115.2</td>\n",
              "      <td>85.2</td>\n",
              "      <td>0.9696</td>\n",
              "      <td>53.5</td>\n",
              "      <td>43.0</td>\n",
              "      <td>17.7</td>\n",
              "      <td>22.8</td>\n",
              "      <td>27.4</td>\n",
              "      <td>...</td>\n",
              "      <td>0</td>\n",
              "      <td>0</td>\n",
              "      <td>0</td>\n",
              "      <td>0</td>\n",
              "      <td>0</td>\n",
              "      <td>0</td>\n",
              "      <td>0</td>\n",
              "      <td>0</td>\n",
              "      <td>0</td>\n",
              "      <td>0</td>\n",
              "    </tr>\n",
              "    <tr>\n",
              "      <th>4</th>\n",
              "      <td>39</td>\n",
              "      <td>37</td>\n",
              "      <td>117.8</td>\n",
              "      <td>86.3</td>\n",
              "      <td>0.9728</td>\n",
              "      <td>56.6</td>\n",
              "      <td>41.1</td>\n",
              "      <td>16.2</td>\n",
              "      <td>17.1</td>\n",
              "      <td>30.0</td>\n",
              "      <td>...</td>\n",
              "      <td>0</td>\n",
              "      <td>0</td>\n",
              "      <td>0</td>\n",
              "      <td>0</td>\n",
              "      <td>0</td>\n",
              "      <td>0</td>\n",
              "      <td>0</td>\n",
              "      <td>0</td>\n",
              "      <td>0</td>\n",
              "      <td>1</td>\n",
              "    </tr>\n",
              "    <tr>\n",
              "      <th>...</th>\n",
              "      <td>...</td>\n",
              "      <td>...</td>\n",
              "      <td>...</td>\n",
              "      <td>...</td>\n",
              "      <td>...</td>\n",
              "      <td>...</td>\n",
              "      <td>...</td>\n",
              "      <td>...</td>\n",
              "      <td>...</td>\n",
              "      <td>...</td>\n",
              "      <td>...</td>\n",
              "      <td>...</td>\n",
              "      <td>...</td>\n",
              "      <td>...</td>\n",
              "      <td>...</td>\n",
              "      <td>...</td>\n",
              "      <td>...</td>\n",
              "      <td>...</td>\n",
              "      <td>...</td>\n",
              "      <td>...</td>\n",
              "      <td>...</td>\n",
              "    </tr>\n",
              "    <tr>\n",
              "      <th>2450</th>\n",
              "      <td>35</td>\n",
              "      <td>26</td>\n",
              "      <td>111.4</td>\n",
              "      <td>87.8</td>\n",
              "      <td>0.9392</td>\n",
              "      <td>50.6</td>\n",
              "      <td>44.5</td>\n",
              "      <td>20.8</td>\n",
              "      <td>19.2</td>\n",
              "      <td>36.1</td>\n",
              "      <td>...</td>\n",
              "      <td>0</td>\n",
              "      <td>0</td>\n",
              "      <td>0</td>\n",
              "      <td>0</td>\n",
              "      <td>0</td>\n",
              "      <td>0</td>\n",
              "      <td>0</td>\n",
              "      <td>0</td>\n",
              "      <td>0</td>\n",
              "      <td>0</td>\n",
              "    </tr>\n",
              "    <tr>\n",
              "      <th>2451</th>\n",
              "      <td>35</td>\n",
              "      <td>27</td>\n",
              "      <td>114.4</td>\n",
              "      <td>92.2</td>\n",
              "      <td>0.9229</td>\n",
              "      <td>52.5</td>\n",
              "      <td>46.6</td>\n",
              "      <td>19.5</td>\n",
              "      <td>19.8</td>\n",
              "      <td>35.0</td>\n",
              "      <td>...</td>\n",
              "      <td>1</td>\n",
              "      <td>0</td>\n",
              "      <td>0</td>\n",
              "      <td>0</td>\n",
              "      <td>0</td>\n",
              "      <td>0</td>\n",
              "      <td>0</td>\n",
              "      <td>0</td>\n",
              "      <td>0</td>\n",
              "      <td>0</td>\n",
              "    </tr>\n",
              "    <tr>\n",
              "      <th>2452</th>\n",
              "      <td>37</td>\n",
              "      <td>28</td>\n",
              "      <td>104.8</td>\n",
              "      <td>88.6</td>\n",
              "      <td>0.8728</td>\n",
              "      <td>49.3</td>\n",
              "      <td>46.4</td>\n",
              "      <td>21.4</td>\n",
              "      <td>22.0</td>\n",
              "      <td>35.8</td>\n",
              "      <td>...</td>\n",
              "      <td>1</td>\n",
              "      <td>0</td>\n",
              "      <td>0</td>\n",
              "      <td>0</td>\n",
              "      <td>0</td>\n",
              "      <td>0</td>\n",
              "      <td>0</td>\n",
              "      <td>0</td>\n",
              "      <td>0</td>\n",
              "      <td>0</td>\n",
              "    </tr>\n",
              "    <tr>\n",
              "      <th>2453</th>\n",
              "      <td>34</td>\n",
              "      <td>24</td>\n",
              "      <td>112.0</td>\n",
              "      <td>96.2</td>\n",
              "      <td>0.8516</td>\n",
              "      <td>51.9</td>\n",
              "      <td>49.3</td>\n",
              "      <td>17.1</td>\n",
              "      <td>21.3</td>\n",
              "      <td>29.0</td>\n",
              "      <td>...</td>\n",
              "      <td>0</td>\n",
              "      <td>0</td>\n",
              "      <td>0</td>\n",
              "      <td>0</td>\n",
              "      <td>0</td>\n",
              "      <td>0</td>\n",
              "      <td>0</td>\n",
              "      <td>0</td>\n",
              "      <td>0</td>\n",
              "      <td>0</td>\n",
              "    </tr>\n",
              "    <tr>\n",
              "      <th>2454</th>\n",
              "      <td>35</td>\n",
              "      <td>24</td>\n",
              "      <td>103.4</td>\n",
              "      <td>96.3</td>\n",
              "      <td>0.6952</td>\n",
              "      <td>51.6</td>\n",
              "      <td>46.9</td>\n",
              "      <td>21.0</td>\n",
              "      <td>22.1</td>\n",
              "      <td>32.5</td>\n",
              "      <td>...</td>\n",
              "      <td>0</td>\n",
              "      <td>0</td>\n",
              "      <td>0</td>\n",
              "      <td>0</td>\n",
              "      <td>0</td>\n",
              "      <td>0</td>\n",
              "      <td>0</td>\n",
              "      <td>0</td>\n",
              "      <td>0</td>\n",
              "      <td>0</td>\n",
              "    </tr>\n",
              "  </tbody>\n",
              "</table>\n",
              "<p>476 rows × 241 columns</p>\n",
              "</div>"
            ],
            "text/plain": [
              "       G   W  ADJOE  ADJDE  BARTHAG  EFG_O  EFG_D   TOR  TORD   ORB  ...  \\\n",
              "0     40  33  123.3   94.9   0.9531   52.6   48.1  15.4  18.2  40.7  ...   \n",
              "1     40  36  129.1   93.6   0.9758   54.8   47.7  12.4  15.8  32.1  ...   \n",
              "2     40  33  114.4   90.4   0.9375   53.9   47.7  14.0  19.5  25.5  ...   \n",
              "3     38  31  115.2   85.2   0.9696   53.5   43.0  17.7  22.8  27.4  ...   \n",
              "4     39  37  117.8   86.3   0.9728   56.6   41.1  16.2  17.1  30.0  ...   \n",
              "...   ..  ..    ...    ...      ...    ...    ...   ...   ...   ...  ...   \n",
              "2450  35  26  111.4   87.8   0.9392   50.6   44.5  20.8  19.2  36.1  ...   \n",
              "2451  35  27  114.4   92.2   0.9229   52.5   46.6  19.5  19.8  35.0  ...   \n",
              "2452  37  28  104.8   88.6   0.8728   49.3   46.4  21.4  22.0  35.8  ...   \n",
              "2453  34  24  112.0   96.2   0.8516   51.9   49.3  17.1  21.3  29.0  ...   \n",
              "2454  35  24  103.4   96.3   0.6952   51.6   46.9  21.0  22.1  32.5  ...   \n",
              "\n",
              "      CONF_P12  CONF_Pat  CONF_SB  CONF_SC  CONF_SEC  CONF_SWAC  CONF_Slnd  \\\n",
              "0            0         0        0        0         0          0          0   \n",
              "1            0         0        0        0         0          0          0   \n",
              "2            0         0        0        0         0          0          0   \n",
              "3            0         0        0        0         0          0          0   \n",
              "4            0         0        0        0         0          0          0   \n",
              "...        ...       ...      ...      ...       ...        ...        ...   \n",
              "2450         0         0        0        0         0          0          0   \n",
              "2451         1         0        0        0         0          0          0   \n",
              "2452         1         0        0        0         0          0          0   \n",
              "2453         0         0        0        0         0          0          0   \n",
              "2454         0         0        0        0         0          0          0   \n",
              "\n",
              "      CONF_Sum  CONF_WAC  CONF_WCC  \n",
              "0            0         0         0  \n",
              "1            0         0         0  \n",
              "2            0         0         0  \n",
              "3            0         0         0  \n",
              "4            0         0         1  \n",
              "...        ...       ...       ...  \n",
              "2450         0         0         0  \n",
              "2451         0         0         0  \n",
              "2452         0         0         0  \n",
              "2453         0         0         0  \n",
              "2454         0         0         0  \n",
              "\n",
              "[476 rows x 241 columns]"
            ]
          },
          "execution_count": 6,
          "metadata": {},
          "output_type": "execute_result"
        }
      ],
      "source": [
        "postseason = mm['POSTSEASON']\n",
        "mm = mm.drop('POSTSEASON', axis = 1)\n",
        "dummies = pd.get_dummies(mm)\n",
        "dummies"
      ]
    },
    {
      "cell_type": "code",
      "execution_count": null,
      "id": "5f589469",
      "metadata": {
        "id": "5f589469"
      },
      "outputs": [],
      "source": [
        "dummies['POSTSEASON'] = postseason"
      ]
    },
    {
      "cell_type": "markdown",
      "id": "338bc9c6",
      "metadata": {
        "id": "338bc9c6"
      },
      "source": [
        "Then we want to select any variables that we do not think will be helpful. In this case, I am choosing to remove the year variables, as I only want to focus on a team's game stats, and not the year that they took place, in order to predict how far teams will go long term in the game. You can select what variables you want to include in your model by thinking through your assumptions about what variables are most highly correlated. You can even use a correlation matrix to best determine the highest correlations between each variable and your target variable."
      ]
    },
    {
      "cell_type": "code",
      "execution_count": null,
      "id": "b5cbc4fb",
      "metadata": {
        "id": "b5cbc4fb"
      },
      "outputs": [],
      "source": [
        "mm = dummies.drop('YEAR', axis = 1)"
      ]
    },
    {
      "cell_type": "markdown",
      "id": "774aa7e5",
      "metadata": {
        "id": "774aa7e5"
      },
      "source": [
        "We then want to split into training and testing. Because there might be some order imposed on your dataset to start with, shuffling the data helps to remove that order so that a model doesn't accidentally learn it."
      ]
    },
    {
      "cell_type": "code",
      "execution_count": null,
      "id": "2c6b1451",
      "metadata": {
        "id": "2c6b1451"
      },
      "outputs": [],
      "source": [
        "X = mm.drop('POSTSEASON', axis = 1)\n",
        "Y = mm[\"POSTSEASON\"]"
      ]
    },
    {
      "cell_type": "code",
      "execution_count": null,
      "id": "c603180f",
      "metadata": {
        "id": "c603180f"
      },
      "outputs": [],
      "source": [
        "X_train, X_test, y_train, y_test = train_test_split(X, Y, random_state=104, test_size=0.25, shuffle=True)"
      ]
    },
    {
      "cell_type": "markdown",
      "id": "5d173f1a",
      "metadata": {
        "id": "5d173f1a"
      },
      "source": [
        "Now we want to consider what method of classification we are going to use. There are many different types classification methods. The following are just a subset of them:\n",
        "- Decision Tree/Random Forest: dataset attributes become nodes or branches of a tree \n",
        "    - Pros: works well with both numerical and categorical data, implicitly performs feature selection, not greatly influenced by outliers\n",
        "    - Cons: not easily interpretable, computationally intensive\n",
        "- K-Nearest Neighbors: creates groups based off of the k-nearest values to some centroid\n",
        "    - Pros: very simple, easy to implement for multi-class problems, many distance variables to choose from\n",
        "    - Cons: very sensitive to outliers, slow and performs worse for higher dimensions of data\n",
        "- Support Vector Machines: model with associated learning algorithms that analyze data for classifications\n",
        "    - Pros: works well with clear margin of separation, effective in high dimensions\n",
        "    - Cons: doesn't perform well on noisy data, no probability estimates"
      ]
    },
    {
      "cell_type": "markdown",
      "id": "8a89e569",
      "metadata": {
        "id": "8a89e569"
      },
      "source": [
        "For this demonstration, we are going to work with a random forest algorithm. We need to start by determining what the best parameters are based on our data for our random forest algorithm. To do this we are going to create a pipeline that contains the algorithm and parameters we want to train, followed by a grid search which will test a variety of values for each and return the best fit on the training data."
      ]
    },
    {
      "cell_type": "code",
      "execution_count": null,
      "id": "e08c3721",
      "metadata": {
        "id": "e08c3721"
      },
      "outputs": [],
      "source": [
        "from sklearn.pipeline import Pipeline\n",
        "from sklearn.model_selection import GridSearchCV\n",
        "from sklearn.ensemble import RandomForestClassifier\n",
        "from sklearn.decomposition import PCA"
      ]
    },
    {
      "cell_type": "code",
      "execution_count": null,
      "id": "65855864",
      "metadata": {
        "id": "65855864"
      },
      "outputs": [],
      "source": [
        "pipe = Pipeline([['reduction', PCA()], ['classify', RandomForestClassifier()]])\n",
        "pipe_grid = { 'reduction__n_components': [2, 5, 8, 10], 'classify__n_estimators': [10, 100, 1000], 'classify__criterion': [\"gini\", \"entropy\", \"log_loss\"]}\n",
        "gs = GridSearchCV(pipe, pipe_grid)\n",
        "gs.fit(X_train, y_train)\n",
        "best_parameters = gs.best_params_"
      ]
    },
    {
      "cell_type": "code",
      "execution_count": null,
      "id": "6ffdc5b0",
      "metadata": {
        "id": "6ffdc5b0"
      },
      "outputs": [],
      "source": [
        "best_parameters"
      ]
    },
    {
      "cell_type": "markdown",
      "id": "d031a78b",
      "metadata": {
        "id": "d031a78b"
      },
      "source": [
        "Once we have the best parameters, we want to be able to test our model using our X_test and y_test values. We start by reducing the dimensions of our data using the best computed parameter. We then fit the X_train and y_train data to the RandomForestClassifier with the values that we received from the GridSearchCV best parameters. We then predict on the X_test data to get a prediction for y."
      ]
    },
    {
      "cell_type": "code",
      "execution_count": null,
      "id": "ff61eb0f",
      "metadata": {
        "id": "ff61eb0f"
      },
      "outputs": [],
      "source": [
        "pca = PCA(n_components = best_parameters['reduction__n_components'])\n",
        "X_train = pca.fit_transform(X_train)"
      ]
    },
    {
      "cell_type": "code",
      "execution_count": null,
      "id": "bb7a89d6",
      "metadata": {
        "id": "bb7a89d6"
      },
      "outputs": [],
      "source": [
        "model = RandomForestClassifier(n_estimators = best_parameters['classify__n_estimators'], criterion = best_parameters['classify__criterion'])\n",
        "fitted_model = model.fit(X_train, y_train)\n",
        "y_predicted = fitted_model.predict(pca.fit_transform(X_test))"
      ]
    },
    {
      "cell_type": "markdown",
      "id": "6c35f7c2",
      "metadata": {
        "id": "6c35f7c2"
      },
      "source": [
        "Now we want to test how well our algorithm performed on our testing data. We can do this in many different ways. One way is by computing the accuracy and precision scores using the sklearn.metrics library. The definition of both are as follows:\n",
        "- Accuracy Score: an evaluation metric that measures the number of correct predictions made by a model in relation to the total number of predictions made\n",
        "- Precision Score: the ratio of true positive to the sum of true positive and false positive"
      ]
    },
    {
      "cell_type": "markdown",
      "id": "504fefec",
      "metadata": {
        "id": "504fefec"
      },
      "source": [
        "Another great way to determine the intricacies of how our model is doing is by generating the confusion matrix which shows both how many times the model got the right answer for each classification, but also how many misclassifications occured per category."
      ]
    },
    {
      "cell_type": "code",
      "execution_count": null,
      "id": "e33592c4",
      "metadata": {
        "id": "e33592c4"
      },
      "outputs": [],
      "source": [
        "from sklearn.metrics import confusion_matrix, accuracy_score, precision_score\n",
        "cm = confusion_matrix(y_test, y_predicted, labels = mm['POSTSEASON'].unique())\n",
        "acc = accuracy_score(y_test, y_predicted)\n",
        "prec = precision_score(y_test, y_predicted, average = \"weighted\")\n",
        "print(\"Accuracy Score: \" + str(acc))\n",
        "print(\"Precision Score: \" + str(prec))"
      ]
    },
    {
      "cell_type": "code",
      "execution_count": null,
      "id": "d129e5c6",
      "metadata": {
        "id": "d129e5c6"
      },
      "outputs": [],
      "source": [
        "sb.heatmap(cm, annot = True, cmap=\"Blues\", xticklabels = mm['POSTSEASON'].unique(), yticklabels = mm['POSTSEASON'].unique())"
      ]
    }
  ],
  "metadata": {
    "colab": {
      "include_colab_link": true,
      "provenance": []
    },
    "kernelspec": {
      "display_name": "Python 3 (ipykernel)",
      "language": "python",
      "name": "python3"
    },
    "language_info": {
      "codemirror_mode": {
        "name": "ipython",
        "version": 3
      },
      "file_extension": ".py",
      "mimetype": "text/x-python",
      "name": "python",
      "nbconvert_exporter": "python",
      "pygments_lexer": "ipython3",
      "version": "3.9.7"
    }
  },
  "nbformat": 4,
  "nbformat_minor": 5
}
